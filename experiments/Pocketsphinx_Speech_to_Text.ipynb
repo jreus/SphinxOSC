{
 "cells": [
  {
   "cell_type": "markdown",
   "metadata": {},
   "source": [
    "## Pocketsphinx Speech to Text\n",
    "Use Stream.start and Stream.stop to record a snippet of audio from the microphone to be decoded."
   ]
  },
  {
   "cell_type": "code",
   "execution_count": 12,
   "metadata": {},
   "outputs": [],
   "source": [
    "import numpy as np\n",
    "import sys\n",
    "import queue\n",
    "import math\n",
    "import os\n",
    "import wave\n",
    "import audioop\n",
    "from collections import deque\n",
    "import math\n",
    "import sounddevice as sd # a nice wrapper around pyaudio that simplifies some things\n",
    "from pocketsphinx.pocketsphinx import *\n",
    "from sphinxbase.sphinxbase import *"
   ]
  },
  {
   "cell_type": "code",
   "execution_count": 13,
   "metadata": {},
   "outputs": [],
   "source": [
    "# modify according to where the pocketsphinx models and test data are\n",
    "MODELDIR = \"./models/\"\n",
    "DATADIR = \"../corpus/\"\n",
    "HMMDIR = \"\"\n",
    "LMDIR = \"\"\n",
    "DICTDIR = \"\""
   ]
  },
  {
   "cell_type": "code",
   "execution_count": 18,
   "metadata": {},
   "outputs": [
    {
     "name": "stdout",
     "output_type": "stream",
     "text": [
      ">  0 Built-in Microphone, Core Audio (2 in, 0 out)\n",
      "<  1 Built-in Output, Core Audio (0 in, 2 out)\n",
      "   2 Soundflower (2ch), Core Audio (2 in, 2 out)\n",
      "   3 Soundflower (64ch), Core Audio (64 in, 64 out)\n",
      "   4 Premiere Pro 5.0, Core Audio (0 in, 0 out)\n",
      "   5 H2Core, Core Audio (0 in, 2 out)\n",
      "   6 USBMixer, Core Audio (0 in, 0 out)\n",
      "   7 Soundblaster PLAY!, Core Audio (0 in, 0 out)\n",
      "   8 Builtin+SF, Core Audio (64 in, 66 out)\n",
      "   9 Saffire+SF, Core Audio (64 in, 64 out)\n",
      "  10 FA101+SF, Core Audio (64 in, 64 out)\n"
     ]
    }
   ],
   "source": [
    "# Audio input stream config.\n",
    "print(sd.query_devices())\n",
    "DEV = sd.default.device\n",
    "CHUNK = 1024  # chunks of bytes to read each time from mic\n",
    "DTYPE = 'int16' # sphinx expects int16 audio format\n",
    "CH = 1 # num channels\n",
    "SR = 16000\n",
    "LATENCY = 0.1\n",
    "SILENCE_LIMIT = 1  # Silence limit in seconds. The max ammount of seconds where only silence is recorded. \n",
    "                   # When this time passes the recording finishes and the audio snippet is decoded\n",
    "PREV_AUDIO = 0.5  # Previous audio (in seconds) to prepend. When noise is detected, how much of previously \n",
    "                  # recorded audio is prepended. This helps to prevent chopping the beginning of the phrase.\n",
    "THRESHOLD = 4500  # integer sample value threshhold for 'non-silence'\n",
    "num_phrases = -1"
   ]
  },
  {
   "cell_type": "code",
   "execution_count": 19,
   "metadata": {},
   "outputs": [],
   "source": [
    "# Create a decoder with certain model\n",
    "config = Decoder.default_config()\n",
    "config.set_string('-hmm', os.path.join(MODELDIR, 'en-us/en-us'))\n",
    "config.set_string('-lm', os.path.join(MODELDIR, 'en-us/en-us.lm.bin'))\n",
    "config.set_string('-dict', os.path.join(MODELDIR, 'en-us/cmudict-en-us.dict'))"
   ]
  },
  {
   "cell_type": "code",
   "execution_count": 20,
   "metadata": {},
   "outputs": [],
   "source": [
    "# Creaders decoder object for streaming data.\n",
    "decoder = Decoder(config)"
   ]
  },
  {
   "cell_type": "code",
   "execution_count": 25,
   "metadata": {},
   "outputs": [],
   "source": [
    "def AUDIOCB(indata, outdata, frames, time, status):\n",
    "    global it\n",
    "    if status:\n",
    "        print(status, file=sys.stderr)\n",
    "    outdata[:] = indata"
   ]
  },
  {
   "cell_type": "code",
   "execution_count": 26,
   "metadata": {},
   "outputs": [
    {
     "name": "stdout",
     "output_type": "stream",
     "text": [
      "Getting intensity values from mic.\n"
     ]
    },
    {
     "name": "stderr",
     "output_type": "stream",
     "text": [
      "input underflow\n",
      "input underflow\n"
     ]
    }
   ],
   "source": [
    "# Setup Mic input\n",
    "print(\"Getting intensity values from mic.\")\n",
    "audiost = sd.Stream(device=(DEV,DEV), samplerate=SR, latency=LATENCY, blocksize=CHUNK, dtype=DTYPE, channels=CH, callback=AUDIOCB)\n",
    "\n",
    "audiost.start()"
   ]
  },
  {
   "cell_type": "code",
   "execution_count": 27,
   "metadata": {},
   "outputs": [],
   "source": [
    "audiost.stop()"
   ]
  },
  {
   "cell_type": "code",
   "execution_count": 28,
   "metadata": {},
   "outputs": [
    {
     "name": "stdout",
     "output_type": "stream",
     "text": [
      "[('<s>', -9, 16673, 16733), ('<sil>', -3, 16734, 16770), ('just', -70, 16771, 16815), ('clothes', -11823, 16816, 16878), ('at', -5853, 16879, 16938), ('<sil>', -464, 16939, 16955), ('blue', -34052, 16956, 16991), ('and', -29433, 16992, 17050), ('baja', 0, 17051, 17176)]\n",
      "[('<s>', 0, 17175, 17177), ('yeah', 0, 17178, 17307)]\n",
      "[('<s>', -3, 171420, 171425), ('the', -23284, 171426, 171445), ('eye', -28594, 171446, 171505), ('</s>', 0, 171506, 171538)]\n",
      "[('<s>', 0, 182636, 182638), ('on(2)', -1416, 182639, 182679), ('a', -4884, 182680, 182683), ('blog', 0, 182684, 182745)]\n",
      "[('<s>', 0, 182745, 182747), ('dude', 0, 182748, 182887)]\n",
      "[('<s>', -2, 185126, 185148), ('because(3)', -11741, 185149, 185201), ('i', -7649, 185202, 185216), ('got', -335, 185217, 185357), ('</s>', 0, 185358, 185362)]\n",
      "[('<s>', -8, 312444, 312463), ('the', -6370, 312464, 312481), ('fact', -2852, 312482, 312532), ('is', -5769, 312533, 312557), ('gratifying', 0, 312558, 312690)]\n",
      "[('<s>', 0, 312694, 312696), ('when', -8962, 312697, 312712), ('i', -124, 312713, 312784), ('got', -4513, 312785, 312827), ('a', 0, 312828, 312830), ('</s>', 0, 312831, 312845)]\n",
      "[('<s>', -3, 314180, 314186), ('are', -15402, 314187, 314211), ('you', 0, 314212, 314322)]\n",
      "[('<s>', -6, 386871, 386876), ('power', -22526, 386877, 386933), ('the', -4798, 386934, 386997), ('<sil>', -7847, 386998, 387000), ('<sil>', -9690, 387001, 387003), ('<sil>', -8643, 387004, 387006), ('<sil>', -6255, 387007, 387012), ('going', -6343, 387013, 387047), ('on(2)', -3851, 387048, 387082), ('own', 0, 387083, 387240)]\n",
      "[('<s>', -2, 475080, 475087), ('to(3)', -13188, 475088, 475122), (\"it's\", -45573, 475123, 475141), ('august', -12853, 475142, 475193), ('are', -15786, 475194, 475238), ('</s>', 0, 475239, 475340)]\n",
      "[('<s>', 0, 535298, 535389), ('use(2)', 0, 535390, 535603)]\n",
      "[('<s>', 0, 535532, 535534), ('you', 0, 535535, 535656)]\n",
      "[('<s>', 0, 539964, 539995), ('it', 0, 539996, 540051)]\n",
      "[('<s>', -3, 540048, 540068), ('is', -17347, 540069, 540093), ('<sil>', -2236, 540094, 540102), ('it', 0, 540103, 540174)]\n",
      "[('<s>', -4, 557135, 557141), ('that(2)', -28024, 557142, 557173), ('is', -12378, 557174, 557190), ('<sil>', -5521, 557191, 557193), ('what', -4587, 557194, 557247), ('creep', -56147, 557248, 557275), ('blog', -17835, 557276, 557342), ('</s>', 0, 557343, 557349)]\n",
      "[('<s>', -5, 557347, 557349), (\"it's\", -4038, 557350, 557368), ('called', -20024, 557369, 557414), ('a', -23266, 557415, 557432), ('just', -6703, 557433, 557470), ('and', -1, 557471, 557826), ('go', -2509, 557827, 557925), ('in', 0, 557926, 557933)]\n",
      "[('<s>', -2, 557943, 557945), ('slapping', -73319, 557946, 557986), ('the(2)', 3, 557987, 558098), ('<sil>', 2, 558099, 558188), ('thing', -43784, 558189, 558198), ('is', -35922, 558199, 558208), ('the', -23936, 558209, 558226), ('is', -11296, 558227, 558243), ('<sil>', -18, 558244, 558251), ('the(2)', -2, 558252, 558291), ('<sil>', -526, 558292, 558304), ('what', -159, 558305, 558375), ('other', -159, 558376, 558391), ('bit', -154, 558392, 558476), ('on(2)', 0, 558477, 558617)]\n"
     ]
    }
   ],
   "source": [
    "from pocketsphinx import LiveSpeech, get_model_path\n",
    "\n",
    "model_path = get_model_path()\n",
    "\n",
    "speech = LiveSpeech(\n",
    "    verbose=True,\n",
    "    sampling_rate=16000,\n",
    "    buffer_size=2048,\n",
    "    no_search=False,\n",
    "    full_utt=False,\n",
    "    hmm=os.path.join(model_path, 'en-us'),\n",
    "    lm=os.path.join(model_path, 'en-us.lm.bin'),\n",
    "    dic=os.path.join(model_path, 'cmudict-en-us.dict')\n",
    ")\n",
    "\n",
    "for phrase in speech:\n",
    "    print(phrase.segments(detailed=True))"
   ]
  },
  {
   "cell_type": "code",
   "execution_count": null,
   "metadata": {},
   "outputs": [],
   "source": []
  }
 ],
 "metadata": {
  "kernelspec": {
   "display_name": "Python 3",
   "language": "python",
   "name": "python3"
  },
  "language_info": {
   "codemirror_mode": {
    "name": "ipython",
    "version": 3
   },
   "file_extension": ".py",
   "mimetype": "text/x-python",
   "name": "python",
   "nbconvert_exporter": "python",
   "pygments_lexer": "ipython3",
   "version": "3.5.5"
  }
 },
 "nbformat": 4,
 "nbformat_minor": 2
}
