{
 "cells": [
  {
   "cell_type": "code",
   "execution_count": 1,
   "metadata": {},
   "outputs": [],
   "source": [
    "from pocketsphinx.pocketsphinx import *\n",
    "from sphinxbase.sphinxbase import *\n",
    "\n",
    "import os\n",
    "import pyaudio\n",
    "import wave\n",
    "import audioop\n",
    "from collections import deque\n",
    "import queue\n",
    "import time\n",
    "import math"
   ]
  },
  {
   "cell_type": "code",
   "execution_count": 2,
   "metadata": {},
   "outputs": [],
   "source": [
    "MODELDIR = \"./models/\"\n",
    "DATADIR = \"../corpus/\""
   ]
  },
  {
   "cell_type": "code",
   "execution_count": 4,
   "metadata": {},
   "outputs": [],
   "source": [
    "# Get a default configuration that can be set with our preferred models\n",
    "config = Decoder.default_config()"
   ]
  },
  {
   "cell_type": "code",
   "execution_count": 5,
   "metadata": {},
   "outputs": [],
   "source": [
    "config.set_string('-hmm', os.path.join(MODELDIR, 'en-us/en-us'))\n",
    "config.set_string('-lm', os.path.join(MODELDIR, 'en-us/en-us.lm.bin'))\n",
    "config.set_string('-dict', os.path.join(MODELDIR, 'en-us/cmudict-en-us.dict'))"
   ]
  },
  {
   "cell_type": "code",
   "execution_count": 6,
   "metadata": {},
   "outputs": [],
   "source": [
    "# Make a new decoder with the given models\n",
    "decoder = Decoder(config)"
   ]
  },
  {
   "cell_type": "code",
   "execution_count": 11,
   "metadata": {},
   "outputs": [],
   "source": [
    "CHUNK = 1024  # chunks of bytes to read each time from mic\n",
    "FORMAT = pyaudio.paInt16 # expecting int16 audio format\n",
    "CHANNELS = 1\n",
    "RATE = 16000\n",
    "SILENCE_LIMIT = 1  # Silence limit in seconds. The max ammount of seconds where\n",
    "                           # only silence is recorded. When this time passes the\n",
    "                           # recording finishes and the file is decoded\n",
    "\n",
    "PREV_AUDIO = 0.5  # Previous audio (in seconds) to prepend. When noise\n",
    "                          # is detected, how much of previously recorded audio is\n",
    "                          # prepended. This helps to prevent chopping the beginning\n",
    "                          # of the phrase.\n",
    "\n",
    "THRESHOLD = 4500\n",
    "num_phrases = -1\n",
    "num_samples = 50"
   ]
  },
  {
   "cell_type": "code",
   "execution_count": 8,
   "metadata": {},
   "outputs": [
    {
     "name": "stdout",
     "output_type": "stream",
     "text": [
      "Getting intensity values from mic.\n"
     ]
    }
   ],
   "source": [
    "print(\"Getting intensity values from mic.\")\n",
    "p = pyaudio.PyAudio()"
   ]
  },
  {
   "cell_type": "code",
   "execution_count": 24,
   "metadata": {},
   "outputs": [
    {
     "name": "stdout",
     "output_type": "stream",
     "text": [
      "11  devices\n",
      "0 {'defaultHighInputLatency': 0.01310657596371882, 'hostApi': 0, 'defaultLowOutputLatency': 0.01, 'maxOutputChannels': 0, 'structVersion': 2, 'defaultLowInputLatency': 0.0029478458049886623, 'index': 0, 'maxInputChannels': 2, 'defaultHighOutputLatency': 0.1, 'defaultSampleRate': 44100.0, 'name': 'Built-in Microphone'} \n",
      "\n",
      "1 {'defaultHighInputLatency': 0.1, 'hostApi': 0, 'defaultLowOutputLatency': 0.012607709750566893, 'maxOutputChannels': 2, 'structVersion': 2, 'defaultLowInputLatency': 0.01, 'index': 1, 'maxInputChannels': 0, 'defaultHighOutputLatency': 0.022766439909297054, 'defaultSampleRate': 44100.0, 'name': 'Built-in Output'} \n",
      "\n",
      "2 {'defaultHighInputLatency': 0.1, 'hostApi': 0, 'defaultLowOutputLatency': 0.0013333333333333333, 'maxOutputChannels': 2, 'structVersion': 2, 'defaultLowInputLatency': 0.01, 'index': 2, 'maxInputChannels': 2, 'defaultHighOutputLatency': 0.010666666666666666, 'defaultSampleRate': 48000.0, 'name': 'Soundflower (2ch)'} \n",
      "\n",
      "3 {'defaultHighInputLatency': 0.1, 'hostApi': 0, 'defaultLowOutputLatency': 0.0013333333333333333, 'maxOutputChannels': 64, 'structVersion': 2, 'defaultLowInputLatency': 0.01, 'index': 3, 'maxInputChannels': 64, 'defaultHighOutputLatency': 0.010666666666666666, 'defaultSampleRate': 48000.0, 'name': 'Soundflower (64ch)'} \n",
      "\n",
      "4 {'defaultHighInputLatency': 0.0, 'hostApi': 0, 'defaultLowOutputLatency': 0.0, 'maxOutputChannels': 0, 'structVersion': 2, 'defaultLowInputLatency': 0.0, 'index': 4, 'maxInputChannels': 0, 'defaultHighOutputLatency': 0.0, 'defaultSampleRate': 0.0, 'name': 'Premiere Pro 5.0'} \n",
      "\n",
      "5 {'defaultHighInputLatency': 0.1, 'hostApi': 0, 'defaultLowOutputLatency': 0.012607709750566893, 'maxOutputChannels': 2, 'structVersion': 2, 'defaultLowInputLatency': 0.01, 'index': 5, 'maxInputChannels': 0, 'defaultHighOutputLatency': 0.022766439909297054, 'defaultSampleRate': 44100.0, 'name': 'H2Core'} \n",
      "\n",
      "6 {'defaultHighInputLatency': 0.0, 'hostApi': 0, 'defaultLowOutputLatency': 0.0, 'maxOutputChannels': 0, 'structVersion': 2, 'defaultLowInputLatency': 0.0, 'index': 6, 'maxInputChannels': 0, 'defaultHighOutputLatency': 0.0, 'defaultSampleRate': 0.0, 'name': 'USBMixer'} \n",
      "\n",
      "7 {'defaultHighInputLatency': 0.0, 'hostApi': 0, 'defaultLowOutputLatency': 0.0, 'maxOutputChannels': 0, 'structVersion': 2, 'defaultLowInputLatency': 0.0, 'index': 7, 'maxInputChannels': 0, 'defaultHighOutputLatency': 0.0, 'defaultSampleRate': 0.0, 'name': 'Soundblaster PLAY!'} \n",
      "\n",
      "8 {'defaultHighInputLatency': 0.1, 'hostApi': 0, 'defaultLowOutputLatency': 0.0125, 'maxOutputChannels': 66, 'structVersion': 2, 'defaultLowInputLatency': 0.01, 'index': 8, 'maxInputChannels': 64, 'defaultHighOutputLatency': 0.021833333333333333, 'defaultSampleRate': 48000.0, 'name': 'Builtin+SF'} \n",
      "\n",
      "9 {'defaultHighInputLatency': 0.1, 'hostApi': 0, 'defaultLowOutputLatency': 0.0013333333333333333, 'maxOutputChannels': 64, 'structVersion': 2, 'defaultLowInputLatency': 0.01, 'index': 9, 'maxInputChannels': 64, 'defaultHighOutputLatency': 0.010666666666666666, 'defaultSampleRate': 48000.0, 'name': 'Saffire+SF'} \n",
      "\n",
      "10 {'defaultHighInputLatency': 0.1, 'hostApi': 0, 'defaultLowOutputLatency': 0.0013333333333333333, 'maxOutputChannels': 64, 'structVersion': 2, 'defaultLowInputLatency': 0.01, 'index': 10, 'maxInputChannels': 64, 'defaultHighOutputLatency': 0.010666666666666666, 'defaultSampleRate': 48000.0, 'name': 'FA101+SF'} \n",
      "\n"
     ]
    }
   ],
   "source": [
    "# See PyAudio Docs for API: https://people.csail.mit.edu/hubert/pyaudio/docs/\n",
    "default_dev = p.get_default_input_device_info()\n",
    "num_devs = p.get_device_count()\n",
    "print(num_devs,\" devices\")\n",
    "for i in range(num_devs):\n",
    "    print(i, p.get_device_info_by_index(i),'\\n')\n"
   ]
  },
  {
   "cell_type": "code",
   "execution_count": 32,
   "metadata": {},
   "outputs": [],
   "source": [
    "# Create a thread-safe buffer of audio data\n",
    "_buff = queue.Queue()\n",
    "\n",
    "def callback(in_data, frame_count, time_info, status_flags):\n",
    "    \"\"\"Continuously collect data from the audio stream, into the buffer.\"\"\"\n",
    "    _buff.put(in_data)\n",
    "    return (None, pyaudio.paContinue)\n"
   ]
  },
  {
   "cell_type": "code",
   "execution_count": 36,
   "metadata": {},
   "outputs": [],
   "source": [
    "stream = p.open(format=FORMAT,\n",
    "                channels=CHANNELS,\n",
    "                rate=RATE,\n",
    "                input=True,\n",
    "                input_device_index=0,\n",
    "                frames_per_buffer=CHUNK,\n",
    "                stream_callback=callback)"
   ]
  },
  {
   "cell_type": "code",
   "execution_count": 14,
   "metadata": {},
   "outputs": [
    {
     "ename": "NameError",
     "evalue": "name 'r' is not defined",
     "output_type": "error",
     "traceback": [
      "\u001b[0;31m---------------------------------------------------------------------------\u001b[0m",
      "\u001b[0;31mNameError\u001b[0m                                 Traceback (most recent call last)",
      "\u001b[0;32m<ipython-input-14-a958a9d09bb6>\u001b[0m in \u001b[0;36m<module>\u001b[0;34m()\u001b[0m\n\u001b[0;32m----> 1\u001b[0;31m \u001b[0;32mif\u001b[0m \u001b[0mr\u001b[0m \u001b[0;34m<\u001b[0m \u001b[0;36m3000\u001b[0m\u001b[0;34m:\u001b[0m\u001b[0;34m\u001b[0m\u001b[0m\n\u001b[0m\u001b[1;32m      2\u001b[0m     \u001b[0mTHRESHOLD\u001b[0m \u001b[0;34m=\u001b[0m \u001b[0;36m3500\u001b[0m\u001b[0;34m\u001b[0m\u001b[0m\n\u001b[1;32m      3\u001b[0m \u001b[0;32melse\u001b[0m\u001b[0;34m:\u001b[0m\u001b[0;34m\u001b[0m\u001b[0m\n\u001b[1;32m      4\u001b[0m     \u001b[0mTHRESHOLD\u001b[0m \u001b[0;34m=\u001b[0m \u001b[0mr\u001b[0m \u001b[0;34m+\u001b[0m \u001b[0;36m100\u001b[0m\u001b[0;34m\u001b[0m\u001b[0m\n",
      "\u001b[0;31mNameError\u001b[0m: name 'r' is not defined"
     ]
    }
   ],
   "source": [
    "if r < 3000:\n",
    "    THRESHOLD = 3500\n",
    "else:\n",
    "    THRESHOLD = r + 100"
   ]
  },
  {
   "cell_type": "code",
   "execution_count": null,
   "metadata": {},
   "outputs": [],
   "source": []
  }
 ],
 "metadata": {
  "kernelspec": {
   "display_name": "Python 3",
   "language": "python",
   "name": "python3"
  },
  "language_info": {
   "codemirror_mode": {
    "name": "ipython",
    "version": 3
   },
   "file_extension": ".py",
   "mimetype": "text/x-python",
   "name": "python",
   "nbconvert_exporter": "python",
   "pygments_lexer": "ipython3",
   "version": "3.5.5"
  }
 },
 "nbformat": 4,
 "nbformat_minor": 2
}
